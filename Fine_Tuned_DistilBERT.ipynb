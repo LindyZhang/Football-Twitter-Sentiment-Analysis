{
  "nbformat": 4,
  "nbformat_minor": 0,
  "metadata": {
    "colab": {
      "provenance": []
    },
    "kernelspec": {
      "name": "python3",
      "display_name": "Python 3"
    },
    "language_info": {
      "name": "python"
    },
    "widgets": {
      "application/vnd.jupyter.widget-state+json": {
        "8f55beba52054395801304d08fed46a3": {
          "model_module": "@jupyter-widgets/controls",
          "model_name": "HBoxModel",
          "model_module_version": "1.5.0",
          "state": {
            "_dom_classes": [],
            "_model_module": "@jupyter-widgets/controls",
            "_model_module_version": "1.5.0",
            "_model_name": "HBoxModel",
            "_view_count": null,
            "_view_module": "@jupyter-widgets/controls",
            "_view_module_version": "1.5.0",
            "_view_name": "HBoxView",
            "box_style": "",
            "children": [
              "IPY_MODEL_797cc6cfb3c34321b2643aeea038030f",
              "IPY_MODEL_53373fec6a924d6888a15c0bb85a9b47",
              "IPY_MODEL_b899fed51e6a4c52b31a49dbd70f6574"
            ],
            "layout": "IPY_MODEL_65ae0db3b6f344808333219218fb4ffc"
          }
        },
        "797cc6cfb3c34321b2643aeea038030f": {
          "model_module": "@jupyter-widgets/controls",
          "model_name": "HTMLModel",
          "model_module_version": "1.5.0",
          "state": {
            "_dom_classes": [],
            "_model_module": "@jupyter-widgets/controls",
            "_model_module_version": "1.5.0",
            "_model_name": "HTMLModel",
            "_view_count": null,
            "_view_module": "@jupyter-widgets/controls",
            "_view_module_version": "1.5.0",
            "_view_name": "HTMLView",
            "description": "",
            "description_tooltip": null,
            "layout": "IPY_MODEL_22e92de8957740fdaaf553aec907eae8",
            "placeholder": "​",
            "style": "IPY_MODEL_5c1e1ab8ccce4aa5a4d10c72f5ad8551",
            "value": "model.safetensors: 100%"
          }
        },
        "53373fec6a924d6888a15c0bb85a9b47": {
          "model_module": "@jupyter-widgets/controls",
          "model_name": "FloatProgressModel",
          "model_module_version": "1.5.0",
          "state": {
            "_dom_classes": [],
            "_model_module": "@jupyter-widgets/controls",
            "_model_module_version": "1.5.0",
            "_model_name": "FloatProgressModel",
            "_view_count": null,
            "_view_module": "@jupyter-widgets/controls",
            "_view_module_version": "1.5.0",
            "_view_name": "ProgressView",
            "bar_style": "success",
            "description": "",
            "description_tooltip": null,
            "layout": "IPY_MODEL_4e2242dba4c742779cdfa7301d6e401e",
            "max": 267954768,
            "min": 0,
            "orientation": "horizontal",
            "style": "IPY_MODEL_42f462f624274e3abbb7ec547814bcbf",
            "value": 267954768
          }
        },
        "b899fed51e6a4c52b31a49dbd70f6574": {
          "model_module": "@jupyter-widgets/controls",
          "model_name": "HTMLModel",
          "model_module_version": "1.5.0",
          "state": {
            "_dom_classes": [],
            "_model_module": "@jupyter-widgets/controls",
            "_model_module_version": "1.5.0",
            "_model_name": "HTMLModel",
            "_view_count": null,
            "_view_module": "@jupyter-widgets/controls",
            "_view_module_version": "1.5.0",
            "_view_name": "HTMLView",
            "description": "",
            "description_tooltip": null,
            "layout": "IPY_MODEL_cdc52e5749fc42a4a40107b11a96e36e",
            "placeholder": "​",
            "style": "IPY_MODEL_3610a833d9644b00a36b04227855c159",
            "value": " 268M/268M [00:05&lt;00:00, 24.7MB/s]"
          }
        },
        "65ae0db3b6f344808333219218fb4ffc": {
          "model_module": "@jupyter-widgets/base",
          "model_name": "LayoutModel",
          "model_module_version": "1.2.0",
          "state": {
            "_model_module": "@jupyter-widgets/base",
            "_model_module_version": "1.2.0",
            "_model_name": "LayoutModel",
            "_view_count": null,
            "_view_module": "@jupyter-widgets/base",
            "_view_module_version": "1.2.0",
            "_view_name": "LayoutView",
            "align_content": null,
            "align_items": null,
            "align_self": null,
            "border": null,
            "bottom": null,
            "display": null,
            "flex": null,
            "flex_flow": null,
            "grid_area": null,
            "grid_auto_columns": null,
            "grid_auto_flow": null,
            "grid_auto_rows": null,
            "grid_column": null,
            "grid_gap": null,
            "grid_row": null,
            "grid_template_areas": null,
            "grid_template_columns": null,
            "grid_template_rows": null,
            "height": null,
            "justify_content": null,
            "justify_items": null,
            "left": null,
            "margin": null,
            "max_height": null,
            "max_width": null,
            "min_height": null,
            "min_width": null,
            "object_fit": null,
            "object_position": null,
            "order": null,
            "overflow": null,
            "overflow_x": null,
            "overflow_y": null,
            "padding": null,
            "right": null,
            "top": null,
            "visibility": null,
            "width": null
          }
        },
        "22e92de8957740fdaaf553aec907eae8": {
          "model_module": "@jupyter-widgets/base",
          "model_name": "LayoutModel",
          "model_module_version": "1.2.0",
          "state": {
            "_model_module": "@jupyter-widgets/base",
            "_model_module_version": "1.2.0",
            "_model_name": "LayoutModel",
            "_view_count": null,
            "_view_module": "@jupyter-widgets/base",
            "_view_module_version": "1.2.0",
            "_view_name": "LayoutView",
            "align_content": null,
            "align_items": null,
            "align_self": null,
            "border": null,
            "bottom": null,
            "display": null,
            "flex": null,
            "flex_flow": null,
            "grid_area": null,
            "grid_auto_columns": null,
            "grid_auto_flow": null,
            "grid_auto_rows": null,
            "grid_column": null,
            "grid_gap": null,
            "grid_row": null,
            "grid_template_areas": null,
            "grid_template_columns": null,
            "grid_template_rows": null,
            "height": null,
            "justify_content": null,
            "justify_items": null,
            "left": null,
            "margin": null,
            "max_height": null,
            "max_width": null,
            "min_height": null,
            "min_width": null,
            "object_fit": null,
            "object_position": null,
            "order": null,
            "overflow": null,
            "overflow_x": null,
            "overflow_y": null,
            "padding": null,
            "right": null,
            "top": null,
            "visibility": null,
            "width": null
          }
        },
        "5c1e1ab8ccce4aa5a4d10c72f5ad8551": {
          "model_module": "@jupyter-widgets/controls",
          "model_name": "DescriptionStyleModel",
          "model_module_version": "1.5.0",
          "state": {
            "_model_module": "@jupyter-widgets/controls",
            "_model_module_version": "1.5.0",
            "_model_name": "DescriptionStyleModel",
            "_view_count": null,
            "_view_module": "@jupyter-widgets/base",
            "_view_module_version": "1.2.0",
            "_view_name": "StyleView",
            "description_width": ""
          }
        },
        "4e2242dba4c742779cdfa7301d6e401e": {
          "model_module": "@jupyter-widgets/base",
          "model_name": "LayoutModel",
          "model_module_version": "1.2.0",
          "state": {
            "_model_module": "@jupyter-widgets/base",
            "_model_module_version": "1.2.0",
            "_model_name": "LayoutModel",
            "_view_count": null,
            "_view_module": "@jupyter-widgets/base",
            "_view_module_version": "1.2.0",
            "_view_name": "LayoutView",
            "align_content": null,
            "align_items": null,
            "align_self": null,
            "border": null,
            "bottom": null,
            "display": null,
            "flex": null,
            "flex_flow": null,
            "grid_area": null,
            "grid_auto_columns": null,
            "grid_auto_flow": null,
            "grid_auto_rows": null,
            "grid_column": null,
            "grid_gap": null,
            "grid_row": null,
            "grid_template_areas": null,
            "grid_template_columns": null,
            "grid_template_rows": null,
            "height": null,
            "justify_content": null,
            "justify_items": null,
            "left": null,
            "margin": null,
            "max_height": null,
            "max_width": null,
            "min_height": null,
            "min_width": null,
            "object_fit": null,
            "object_position": null,
            "order": null,
            "overflow": null,
            "overflow_x": null,
            "overflow_y": null,
            "padding": null,
            "right": null,
            "top": null,
            "visibility": null,
            "width": null
          }
        },
        "42f462f624274e3abbb7ec547814bcbf": {
          "model_module": "@jupyter-widgets/controls",
          "model_name": "ProgressStyleModel",
          "model_module_version": "1.5.0",
          "state": {
            "_model_module": "@jupyter-widgets/controls",
            "_model_module_version": "1.5.0",
            "_model_name": "ProgressStyleModel",
            "_view_count": null,
            "_view_module": "@jupyter-widgets/base",
            "_view_module_version": "1.2.0",
            "_view_name": "StyleView",
            "bar_color": null,
            "description_width": ""
          }
        },
        "cdc52e5749fc42a4a40107b11a96e36e": {
          "model_module": "@jupyter-widgets/base",
          "model_name": "LayoutModel",
          "model_module_version": "1.2.0",
          "state": {
            "_model_module": "@jupyter-widgets/base",
            "_model_module_version": "1.2.0",
            "_model_name": "LayoutModel",
            "_view_count": null,
            "_view_module": "@jupyter-widgets/base",
            "_view_module_version": "1.2.0",
            "_view_name": "LayoutView",
            "align_content": null,
            "align_items": null,
            "align_self": null,
            "border": null,
            "bottom": null,
            "display": null,
            "flex": null,
            "flex_flow": null,
            "grid_area": null,
            "grid_auto_columns": null,
            "grid_auto_flow": null,
            "grid_auto_rows": null,
            "grid_column": null,
            "grid_gap": null,
            "grid_row": null,
            "grid_template_areas": null,
            "grid_template_columns": null,
            "grid_template_rows": null,
            "height": null,
            "justify_content": null,
            "justify_items": null,
            "left": null,
            "margin": null,
            "max_height": null,
            "max_width": null,
            "min_height": null,
            "min_width": null,
            "object_fit": null,
            "object_position": null,
            "order": null,
            "overflow": null,
            "overflow_x": null,
            "overflow_y": null,
            "padding": null,
            "right": null,
            "top": null,
            "visibility": null,
            "width": null
          }
        },
        "3610a833d9644b00a36b04227855c159": {
          "model_module": "@jupyter-widgets/controls",
          "model_name": "DescriptionStyleModel",
          "model_module_version": "1.5.0",
          "state": {
            "_model_module": "@jupyter-widgets/controls",
            "_model_module_version": "1.5.0",
            "_model_name": "DescriptionStyleModel",
            "_view_count": null,
            "_view_module": "@jupyter-widgets/base",
            "_view_module_version": "1.2.0",
            "_view_name": "StyleView",
            "description_width": ""
          }
        }
      }
    }
  },
  "cells": [
    {
      "cell_type": "code",
      "execution_count": 2,
      "metadata": {
        "id": "ulC7UqFmL5Mi",
        "colab": {
          "base_uri": "https://localhost:8080/"
        },
        "outputId": "10f5a810-d98a-45cf-c84c-7ae609cc3c9f"
      },
      "outputs": [
        {
          "output_type": "stream",
          "name": "stderr",
          "text": [
            "[nltk_data] Downloading package vader_lexicon to /root/nltk_data...\n"
          ]
        },
        {
          "output_type": "execute_result",
          "data": {
            "text/plain": [
              "True"
            ]
          },
          "metadata": {},
          "execution_count": 2
        }
      ],
      "source": [
        "import os\n",
        "import re\n",
        "\n",
        "from tqdm import tqdm\n",
        "import numpy as np\n",
        "import pandas as pd\n",
        "import torch\n",
        "import matplotlib.pyplot as plt\n",
        "\n",
        "%matplotlib inline\n",
        "\n",
        "import nltk\n",
        "nltk.download('vader_lexicon')"
      ]
    },
    {
      "cell_type": "code",
      "source": [
        "# This one is for files that originate from a google drive (scraped data)\n",
        "from google.colab import drive\n",
        "drive.mount('/content/drive')"
      ],
      "metadata": {
        "id": "I3J4AqH8L74e",
        "colab": {
          "base_uri": "https://localhost:8080/"
        },
        "outputId": "f2ca7a12-0587-4d11-d2bb-bc631ace73e0"
      },
      "execution_count": 3,
      "outputs": [
        {
          "output_type": "stream",
          "name": "stdout",
          "text": [
            "Mounted at /content/drive\n"
          ]
        }
      ]
    },
    {
      "cell_type": "code",
      "source": [
        "folder_path = '/content/drive/My Drive/Colab Notebooks/dataset/'\n",
        "def read_folder(folder):\n",
        "    examples = []\n",
        "    for subdir in os.listdir(folder):\n",
        "        subdir_path = os.path.join(folder, subdir)\n",
        "        if os.path.isdir(subdir_path):  # Check if it's a directory\n",
        "            files_read = 0  # Counter for the number of files read from each folder\n",
        "            for fname in os.listdir(subdir_path):\n",
        "                file_path = os.path.join(subdir_path, fname)\n",
        "                if os.path.isfile(file_path) and file_path.endswith('.txt'):  # Check if it's a file and ends with '.txt'\n",
        "                    with open(file_path, encoding='utf8') as f:\n",
        "                        examples.append(f.readline().strip())\n",
        "    return examples\n",
        "test_examples = read_folder(folder_path)\n",
        "print('Number of examples: {}'.format(len(test_examples)))\n",
        "print('Sample example: {}\\n\\n'.format(test_examples[0]))\n",
        "print(test_examples[:10])"
      ],
      "metadata": {
        "colab": {
          "base_uri": "https://localhost:8080/"
        },
        "id": "cocHvXpZMT5x",
        "outputId": "491135e6-e573-4bd8-9bad-ee29c2f214ec"
      },
      "execution_count": 4,
      "outputs": [
        {
          "output_type": "stream",
          "name": "stdout",
          "text": [
            "Number of examples: 7657\n",
            "Sample example: Sheffield United manager Chris Wilder has confirmed that Jadon Bogle and Jack Robinson will miss their upcoming #PL match against Burnley due to their injuries.   #SUFC\n",
            "\n",
            "\n",
            "['Sheffield United manager Chris Wilder has confirmed that Jadon Bogle and Jack Robinson will miss their upcoming #PL match against Burnley due to their injuries.   #SUFC', 'Whatever the outcome on Saturday, what a season it s been.  Let s go one final time on Saturday!   ️ #SUFC #RootsHall', \"Aldershot and Gateshead tease each other over 'hoo-ha' for postponed fixture - https://t.co/8C9veElgPk  #afc #avfc #afcb #brentfordfc #bhafc #twitterclarets #cfc #cpfc #efc #ffc #lfc #coyh #ltfc #mancity #mufc #nufc #nffc #twitterblades #sufc #thfc #coys #whufc #coyi #wwfc\", 'Prince Abdullah on Instagram. #twitterblades #sufc https://t.co/gkV3YwUrwL', 'Barnsley player gets hit in the head by Portsmouth fan during pitch invasion -  https://t.co/Wloq1qLlcZ  #afc #avfc #afcb #brentfordfc #bhafc #twitterclarets #cfc #cpfc #efc #ffc #lfc #coyh #ltfc #mancity #mufc #nufc #nffc #twitterblades #sufc #thfc #coys #whufc #coyi #wwfc', \"Sunderland's Dan Ballard goes viral after celebrating in front of West Brom fans -  https://t.co/cmNMOAxKUk  #afc #avfc #afcb #brentfordfc #bhafc #twitterclarets #cfc #cpfc #efc #ffc #lfc #coyh #ltfc #mancity #mufc #nufc #nffc #twitterblades #sufc #thfc #coys #whufc #coyi #wwfc\", 'Stewards and Portsmouth fan get into fight after 89th minute winner vs Barnsley  - https://t.co/IVrWMNnF5h  #afc #avfc #afcb #brentfordfc #bhafc #twitterclarets #cfc #cpfc #efc #ffc #lfc #coyh #ltfc #mancity #mufc #nufc #nffc #twitterblades #sufc #thfc #coys #whufc #coyi #wwfc', 'Sheffield United 23/24 Squad Signed SE Special Edition Home Shirt  £31.00 currently  2 bids, 2 watchers  Ends Mon 22nd Apr @ 12:07am  https://t.co/tVzMTmHu8j  #ad #sufc #twitterblades https://t.co/i7dXDeZRDe', 'People saying no really want us in a relegation scrap next year  #twitterblades #sufc', 'SHEFFIELD United Large Car Sticker  £2.00 currently  2 bids, 5 watchers  Ends Thu 18th Apr @ 3:11pm  https://t.co/5FezIaOs0Y  #ad #sufc #twitterblades https://t.co/GleDYL4Pe7']\n"
          ]
        }
      ]
    },
    {
      "cell_type": "code",
      "source": [
        "import torch\n",
        "\n",
        "if torch.cuda.is_available():\n",
        "    device = torch.device(\"cuda\")\n",
        "    print(f'There are {torch.cuda.device_count()} GPU(s) available.')\n",
        "    print('Device name:', torch.cuda.get_device_name(0))\n",
        "\n",
        "else:\n",
        "    print('No GPU available, using the CPU instead.')\n",
        "    device = torch.device(\"cpu\")"
      ],
      "metadata": {
        "colab": {
          "base_uri": "https://localhost:8080/"
        },
        "id": "ocAREen8NwFi",
        "outputId": "419f7043-3179-4863-a806-f4e9cfa428cb"
      },
      "execution_count": 5,
      "outputs": [
        {
          "output_type": "stream",
          "name": "stdout",
          "text": [
            "No GPU available, using the CPU instead.\n"
          ]
        }
      ]
    },
    {
      "cell_type": "code",
      "source": [
        "from sklearn.metrics import accuracy_score, roc_curve, auc\n",
        "\n",
        "def evaluate_roc(probs, y_true):\n",
        "  '''\n",
        "  - print auc and accuracy on validation set\n",
        "  - plot roc\n",
        "  @params   probs (np.array): array of predicted probabilities with shape (len(y_true), 2)\n",
        "  @params   y_true (np.array): array of the true values with shape (len(y_true),)\n",
        "  '''\n",
        "  preds = probs[:, 1]\n",
        "  fpr, tpr, threshold = roc_curve(y_true, preds)\n",
        "  roc_auc = auc(fpr, tpr)\n",
        "  print(f'AUC: {roc_auc:.4f}')\n",
        "  # accuracy over test set\n",
        "  y_pred = np.where(preds >= 0.5, 1, 0)\n",
        "  accuracy = accuracy_score(y_true, y_pred)\n",
        "  print(f'Accuracy: {accuracy*100:.2f}%')\n",
        "\n",
        "  # plot ROC AUC\n",
        "  plt.title('Receiver Operating Characteristic')\n",
        "  plt.plot(fpr, tpr, 'b', label = 'AUC = %0.2f' % roc_auc)\n",
        "  plt.legend(loc = 'lower right')\n",
        "  plt.plot([0, 1], [0, 1],'r--')\n",
        "  plt.xlim([0, 1])\n",
        "  plt.ylim([0, 1])\n",
        "  plt.ylabel('True Positive Rate')\n",
        "  plt.xlabel('False Positive Rate')\n",
        "  plt.show()"
      ],
      "metadata": {
        "id": "XOGDmjgMOTvK"
      },
      "execution_count": 6,
      "outputs": []
    },
    {
      "cell_type": "code",
      "source": [
        "soccer_df = pd.DataFrame({'text': test_examples})\n",
        "print(soccer_df)"
      ],
      "metadata": {
        "colab": {
          "base_uri": "https://localhost:8080/"
        },
        "id": "eynVia1TMgLC",
        "outputId": "26335072-55c0-436e-fa08-4314d46b89ae"
      },
      "execution_count": 7,
      "outputs": [
        {
          "output_type": "stream",
          "name": "stdout",
          "text": [
            "                                                   text\n",
            "0     Sheffield United manager Chris Wilder has conf...\n",
            "1     Whatever the outcome on Saturday, what a seaso...\n",
            "2     Aldershot and Gateshead tease each other over ...\n",
            "3     Prince Abdullah on Instagram. #twitterblades #...\n",
            "4     Barnsley player gets hit in the head by Portsm...\n",
            "...                                                 ...\n",
            "7652  Although, Wilcox is appointed but Utd's curren...\n",
            "7653  #mufc Revoke The United Stand's Press Credenti...\n",
            "7654  Sancho s bonuses for getting into the champion...\n",
            "7655  #Sirjim is doing a great work at Manchester Un...\n",
            "7656  EXCLUSIVE: Manchester United have agreed compe...\n",
            "\n",
            "[7657 rows x 1 columns]\n"
          ]
        }
      ]
    },
    {
      "cell_type": "code",
      "source": [
        "from nltk.sentiment.vader import SentimentIntensityAnalyzer\n",
        "\n",
        "def text_preprocessing(text):\n",
        "    \"\"\"\n",
        "    - Remove entity mentions (eg. '#AFC')\n",
        "    - Correct errors (eg. '&amp;' to '&')\n",
        "    @param    text (str): a string to be processed.\n",
        "    @return   text (Str): the processed string.\n",
        "    \"\"\"\n",
        "    # Remove '#name'\n",
        "    text = re.sub(r'#\\w+(\\s|$)', ' ', text)\n",
        "\n",
        "\n",
        "    # Replace '&amp;' with '&'\n",
        "    text = re.sub(r'&amp;', '&', text)\n",
        "\n",
        "    # Remove links\n",
        "    text = re.sub(r'https?://\\S+', '', text)\n",
        "\n",
        "    # Remove trailing whitespace\n",
        "    text = re.sub(r'\\s+', ' ', text).strip()\n",
        "\n",
        "    return text\n",
        "\n",
        "sia = SentimentIntensityAnalyzer()\n",
        "def compute_sentiment(text):\n",
        "    # Preprocess the text (if needed)\n",
        "    preprocessed_text = text_preprocessing(text)\n",
        "\n",
        "    # Compute sentiment score\n",
        "    scores = sia.polarity_scores(preprocessed_text)\n",
        "\n",
        "    return scores['compound']\n",
        "\n",
        "soccer_df['sentiment_score'] = soccer_df['text'].apply(compute_sentiment)\n",
        "\n",
        "def categorize_sentiment(score):\n",
        "  if score >= 0:\n",
        "    return 1\n",
        "  else:\n",
        "    return 0\n",
        "\n",
        "soccer_df['sentiment'] = soccer_df['sentiment_score'].apply(categorize_sentiment)"
      ],
      "metadata": {
        "id": "8nCBlZ2mMlJJ"
      },
      "execution_count": 8,
      "outputs": []
    },
    {
      "cell_type": "code",
      "source": [
        "from sklearn.model_selection import train_test_split\n",
        "\n",
        "X = soccer_df.text.values\n",
        "y = soccer_df.sentiment.values\n",
        "X_train, X_other, y_train, y_other = train_test_split(X, y, test_size = 0.3, random_state = 2020)\n",
        "X_val, X_test, y_val, y_test = train_test_split(X_other, y_other, test_size = 0.5, random_state = 2020)"
      ],
      "metadata": {
        "id": "jfP5SEukMtcM"
      },
      "execution_count": 9,
      "outputs": []
    },
    {
      "cell_type": "code",
      "source": [
        "print('X_train: ', X_train[:5])\n",
        "print('X_val: ', X_val[:5])\n",
        "print('X_test: ', X_test[:5])\n",
        "print('y_train: ', y_train[:5])\n",
        "print('y_val: ', y_val[:5])\n",
        "print('y_test: ', y_test[:5])"
      ],
      "metadata": {
        "colab": {
          "base_uri": "https://localhost:8080/"
        },
        "id": "aBxcKPLFO3tj",
        "outputId": "f5dc12f7-6185-44e8-f70f-717b4ef269a0"
      },
      "execution_count": 11,
      "outputs": [
        {
          "output_type": "stream",
          "name": "stdout",
          "text": [
            "X_train:  ['Enzo Fernandez, Axel Disasi and Raheem Sterling have been taken off Chelsea\\'s injury list. And Nkunku is in \"partial team training.\" #CFC #EmiratesFACup'\n",
            " \"If there's one thing I can be proud of this season, it's that Carrington is still producing quality players        Kobbie   &amp; Alejandro  #MUFC\"\n",
            " 'Pochettino on Palmer:  But it s true we are a coaching staff that we always demand more.  Yes you score, but you need to work. Yes you score, but you need to run when we don t have the ball . But he s doing well.  [standard] #cfc'\n",
            " 'Charlie Goode has returned to #BrentfordFC midway through his loan spell at Wigan due to  personal reasons  https://t.co/bg1vTvjH3i'\n",
            " 'Glasner is the first person to arrive at the club s Copers Cope training ground and the last to leave.  Many at the club believe he is one to take them to the next level.   @iamrahmanosman #CPFC https://t.co/8MDUrGPYQc']\n",
            "X_val:  [\"9th tier club win 12-0 at league's worst side after needing 12 goal swing for playoffs -  https://t.co/ju9cREidrG  #afc #avfc #afcb #brentfordfc #bhafc #twitterclarets #cfc #cpfc #efc #ffc #lfc #coyh #ltfc #mancity #mufc #nufc #nffc #twitterblades #thfc #coys #whufc #coyi #wwfc\"\n",
            " 'Barnsley player gets hit in the head by Portsmouth fan during pitch invasion -  https://t.co/Wloq1qLlcZ  #afc #avfc #afcb #brentfordfc #bhafc #twitterclarets #cfc #cpfc #efc #ffc #lfc #coyh #ltfc #mancity #mufc #nufc #nffc #twitterblades #sufc #thfc #coys #whufc #coyi #wwfc'\n",
            " 'Lerma unavailable for both West Ham and Newcastle will be a really big miss.   Hopefully Ward pulls through and is deemed fit enough for West Ham by tomorrow.   The option of Holding or Tomkins there to cover Lerma. I doubt Richards makes it in time #CPFC'\n",
            " '@Galaxy4T2 @BBCRNS @LouisWheeldonNS Loyalty means nothing #nffc where was that waiting list 5 years ago!!!!'\n",
            " 'EXCLUSIVE: Manchester United have agreed compensation to appoint Jason Wilcox as new technical director.  Deal completed now, he s joining from Southampton as former Man City s Head of Academy will be key part of INEOS project at #MUFC.  Talks continue for Dan Ashworth too. Some Zidane rumors too']\n",
            "X_test:  ['Internally some at Spurs acknowledge that a year in the Europa League could have some benefit.    Generally though there is a desire at Tottenham for the group to test themselves at the highest level [in the Champions League].    \\u200d [@CDEccleshare via @TheAthleticFC]  #THFC #COYS https://t.co/XNgwOo53L9'\n",
            " \"IT'S MATCHDAY  ️      @ChelseaFC   at Stamford Bridge.   3:00pm KICK OFF.   @premierleague  #twitterclarets #UTC #BurnleyFC #Chelsea #CHEBUR #PremierLeague https://t.co/BkoUqgN2Pj\"\n",
            " \"Liverpool told they missed out on 'incredible' Jurgen Klopp replacement  #LFC   https://t.co/YZC31PrsWX\"\n",
            " '\"just one more episode\"  #afc #cfc #lff #AVFC #mufc https://t.co/rj3PUak6TA'\n",
            " 'Leaders in Shots Blocked per 90 from TheOther14 in the #PL season so far. @Other14The   @CraigDawson__15 leads the way.  #Wolves #EFC #NFFC #BHAFC #WHUFC #LTFC #NUFC #FFC #twitterclarets #twitterblades #BrentfordFC https://t.co/n1WOmZg2cb']\n",
            "y_train:  [0 1 1 1 0]\n",
            "y_val:  [0 1 1 1 1]\n",
            "y_test:  [1 1 0 1 0]\n"
          ]
        }
      ]
    },
    {
      "cell_type": "code",
      "source": [
        "from transformers import DistilBertTokenizer, DistilBertModel\n",
        "\n",
        "# Change the tokenizer to DistilBERT's tokenizer\n",
        "tokenizer = DistilBertTokenizer.from_pretrained('distilbert-base-uncased', do_lower_case=True)\n",
        "\n",
        "def preprocessing_for_distilbert(data, max_length=512):\n",
        "    '''\n",
        "    Perform required preprocessing steps for pretrained DistilBERT.\n",
        "    @param   data (np.array): Array of texts to be processed.\n",
        "    @param   max_length (int): Maximum sequence length.\n",
        "    @return  input_ids (torch.Tensor): Tensor of token ids to be fed to a model\n",
        "    @return  attention_masks (torch.Tensor): Tensor of indices specifying which tokens should be attended to by the model\n",
        "    '''\n",
        "    # Create empty lists to store outputs\n",
        "    input_ids = []\n",
        "    attention_masks = []\n",
        "\n",
        "    # For every sentence...\n",
        "    for sent in data:\n",
        "        # Encode the sentence\n",
        "        encoded_sent = tokenizer.encode_plus(\n",
        "            text=text_preprocessing(sent),  # Preprocess sentence\n",
        "            add_special_tokens=True,        # Add `[CLS]` and `[SEP]`\n",
        "            max_length=max_length,          # Max length to truncate/pad\n",
        "            pad_to_max_length=True,         # Pad sentence to max length\n",
        "            truncation=True,                # Explicitly truncate to max_length\n",
        "            return_attention_mask=True      # Return attention mask\n",
        "        )\n",
        "\n",
        "        # Add the outputs to the lists\n",
        "        input_ids.append(encoded_sent.get('input_ids'))\n",
        "        attention_masks.append(encoded_sent.get('attention_mask'))\n",
        "\n",
        "    # Convert lists to tensors\n",
        "    input_ids = torch.tensor(input_ids)\n",
        "    attention_masks = torch.tensor(attention_masks)\n",
        "\n",
        "    return input_ids, attention_masks"
      ],
      "metadata": {
        "id": "ATB-ZeLxM6r-"
      },
      "execution_count": 12,
      "outputs": []
    },
    {
      "cell_type": "code",
      "source": [
        "tokenizer = DistilBertTokenizer.from_pretrained('distilbert-base-uncased', do_lower_case=True)\n",
        "#Encode our concatenated data\n",
        "encoded_tweets = [tokenizer.encode(sent, add_special_tokens=True) for sent in soccer_df.text.values]\n",
        "\n",
        "#Find the maximum length\n",
        "max_len = max([len(sent) for sent in encoded_tweets])\n",
        "print('Max Length: ', max_len)"
      ],
      "metadata": {
        "colab": {
          "base_uri": "https://localhost:8080/"
        },
        "id": "ZEt1Y6BkNHxJ",
        "outputId": "4ef77a54-d9c9-496b-b74e-176dfbd08066"
      },
      "execution_count": 13,
      "outputs": [
        {
          "output_type": "stream",
          "name": "stderr",
          "text": [
            "Token indices sequence length is longer than the specified maximum sequence length for this model (615 > 512). Running this sequence through the model will result in indexing errors\n"
          ]
        },
        {
          "output_type": "stream",
          "name": "stdout",
          "text": [
            "Max Length:  615\n"
          ]
        }
      ]
    },
    {
      "cell_type": "code",
      "source": [
        "# Specify `MAX_LEN`\n",
        "MAX_LEN = 128\n",
        "\n",
        "# Print sentence 0 and its encoded token ids\n",
        "token_ids = list(preprocessing_for_distilbert([X[0]])[0].squeeze().numpy())\n",
        "print('Original: ', X[0])\n",
        "print('Token IDs: ', token_ids)\n",
        "\n",
        "# Run function `preprocessing_for_bert` on the train set and the validation set\n",
        "print('Tokenizing data...')\n",
        "train_inputs, train_masks = preprocessing_for_distilbert(X_train, max_length=MAX_LEN)\n",
        "val_inputs, val_masks = preprocessing_for_distilbert(X_val, max_length=MAX_LEN)\n",
        "test_inputs, test_masks = preprocessing_for_distilbert(X_test, max_length=MAX_LEN)"
      ],
      "metadata": {
        "colab": {
          "base_uri": "https://localhost:8080/"
        },
        "id": "fvMU5M2eNKsu",
        "outputId": "49ac8c76-66b0-40d9-a190-b0312ccf80e1"
      },
      "execution_count": 15,
      "outputs": [
        {
          "output_type": "stream",
          "name": "stdout",
          "text": [
            "Original:  Sheffield United manager Chris Wilder has confirmed that Jadon Bogle and Jack Robinson will miss their upcoming #PL match against Burnley due to their injuries.   #SUFC\n",
            "Token IDs:  [101, 8533, 2142, 3208, 3782, 18463, 2038, 4484, 2008, 14855, 5280, 22132, 2571, 1998, 2990, 6157, 2097, 3335, 2037, 9046, 2674, 2114, 23028, 2349, 2000, 2037, 6441, 1012, 102, 0, 0, 0, 0, 0, 0, 0, 0, 0, 0, 0, 0, 0, 0, 0, 0, 0, 0, 0, 0, 0, 0, 0, 0, 0, 0, 0, 0, 0, 0, 0, 0, 0, 0, 0, 0, 0, 0, 0, 0, 0, 0, 0, 0, 0, 0, 0, 0, 0, 0, 0, 0, 0, 0, 0, 0, 0, 0, 0, 0, 0, 0, 0, 0, 0, 0, 0, 0, 0, 0, 0, 0, 0, 0, 0, 0, 0, 0, 0, 0, 0, 0, 0, 0, 0, 0, 0, 0, 0, 0, 0, 0, 0, 0, 0, 0, 0, 0, 0, 0, 0, 0, 0, 0, 0, 0, 0, 0, 0, 0, 0, 0, 0, 0, 0, 0, 0, 0, 0, 0, 0, 0, 0, 0, 0, 0, 0, 0, 0, 0, 0, 0, 0, 0, 0, 0, 0, 0, 0, 0, 0, 0, 0, 0, 0, 0, 0, 0, 0, 0, 0, 0, 0, 0, 0, 0, 0, 0, 0, 0, 0, 0, 0, 0, 0, 0, 0, 0, 0, 0, 0, 0, 0, 0, 0, 0, 0, 0, 0, 0, 0, 0, 0, 0, 0, 0, 0, 0, 0, 0, 0, 0, 0, 0, 0, 0, 0, 0, 0, 0, 0, 0, 0, 0, 0, 0, 0, 0, 0, 0, 0, 0, 0, 0, 0, 0, 0, 0, 0, 0, 0, 0, 0, 0, 0, 0, 0, 0, 0, 0, 0, 0, 0, 0, 0, 0, 0, 0, 0, 0, 0, 0, 0, 0, 0, 0, 0, 0, 0, 0, 0, 0, 0, 0, 0, 0, 0, 0, 0, 0, 0, 0, 0, 0, 0, 0, 0, 0, 0, 0, 0, 0, 0, 0, 0, 0, 0, 0, 0, 0, 0, 0, 0, 0, 0, 0, 0, 0, 0, 0, 0, 0, 0, 0, 0, 0, 0, 0, 0, 0, 0, 0, 0, 0, 0, 0, 0, 0, 0, 0, 0, 0, 0, 0, 0, 0, 0, 0, 0, 0, 0, 0, 0, 0, 0, 0, 0, 0, 0, 0, 0, 0, 0, 0, 0, 0, 0, 0, 0, 0, 0, 0, 0, 0, 0, 0, 0, 0, 0, 0, 0, 0, 0, 0, 0, 0, 0, 0, 0, 0, 0, 0, 0, 0, 0, 0, 0, 0, 0, 0, 0, 0, 0, 0, 0, 0, 0, 0, 0, 0, 0, 0, 0, 0, 0, 0, 0, 0, 0, 0, 0, 0, 0, 0, 0, 0, 0, 0, 0, 0, 0, 0, 0, 0, 0, 0, 0, 0, 0, 0, 0, 0, 0, 0, 0, 0, 0, 0, 0, 0, 0, 0, 0, 0, 0, 0, 0, 0, 0, 0, 0, 0, 0, 0, 0, 0, 0, 0, 0, 0, 0, 0, 0, 0, 0, 0, 0, 0, 0, 0, 0, 0, 0, 0, 0, 0, 0, 0, 0, 0, 0, 0, 0, 0, 0, 0, 0, 0, 0, 0, 0, 0, 0, 0, 0, 0, 0, 0, 0, 0, 0, 0, 0]\n",
            "Tokenizing data...\n"
          ]
        }
      ]
    },
    {
      "cell_type": "code",
      "source": [
        "from torch.utils.data import TensorDataset, DataLoader, RandomSampler, SequentialSampler\n",
        "\n",
        "# Convert other data types to torch.Tensor\n",
        "train_labels = torch.tensor(y_train).to(device)\n",
        "val_labels = torch.tensor(y_val).to(device)\n",
        "test_labels = torch.tensor(y_test).to(device)\n",
        "\n",
        "# For fine-tuning BERT, the authors recommend a batch size of 16 or 32.\n",
        "batch_size = 32\n",
        "\n",
        "# Create the DataLoader for our training set\n",
        "train_data = TensorDataset(train_inputs, train_masks, train_labels)\n",
        "train_sampler = RandomSampler(train_data)\n",
        "train_dataloader = DataLoader(train_data, sampler=train_sampler, batch_size=batch_size)\n",
        "\n",
        "# Create the DataLoader for our validation set\n",
        "val_data = TensorDataset(val_inputs, val_masks, val_labels)\n",
        "val_sampler = SequentialSampler(val_data)\n",
        "val_dataloader = DataLoader(val_data, sampler=val_sampler, batch_size=batch_size)\n",
        "\n",
        "#Create the DataLoader for our test set\n",
        "test_data = TensorDataset(test_inputs, test_masks, test_labels)\n",
        "test_sampler = RandomSampler(test_data)\n",
        "test_dataloader = DataLoader(test_data, sampler=test_sampler, batch_size = batch_size)"
      ],
      "metadata": {
        "id": "j_p6R1eeNZGm"
      },
      "execution_count": 16,
      "outputs": []
    },
    {
      "cell_type": "code",
      "source": [
        "%%time\n",
        "import torch\n",
        "import torch.nn as nn\n",
        "from transformers import BertModel\n",
        "\n",
        "class DistilBertClassifier(nn.Module):\n",
        "    \"\"\"DistilBERT Model for Classification Tasks.\n",
        "    \"\"\"\n",
        "    def __init__(self, freeze_distilbert=False):\n",
        "        \"\"\"\n",
        "        @param    freeze_distilbert (bool): Set `False` to fine-tune the DistilBERT model\n",
        "        \"\"\"\n",
        "        super(DistilBertClassifier, self).__init__()\n",
        "\n",
        "        # Instantiate DistilBERT model\n",
        "        self.distilbert = DistilBertModel.from_pretrained('distilbert-base-uncased')\n",
        "\n",
        "        # Instantiate a feed-forward classifier\n",
        "        self.classifier = nn.Linear(768, 2)  # Assuming binary classification\n",
        "\n",
        "        # Freeze the DistilBERT model if specified\n",
        "        if freeze_distilbert:\n",
        "            for param in self.distilbert.parameters():\n",
        "                param.requires_grad = False\n",
        "\n",
        "    def forward(self, input_ids, attention_mask):\n",
        "        \"\"\"\n",
        "        Feed input to DistilBERT and the classifier to compute logits.\n",
        "        @param    input_ids (torch.Tensor): an input tensor with shape (batch_size,\n",
        "                      max_length)\n",
        "        @param    attention_mask (torch.Tensor): a tensor that hold attention mask\n",
        "                      information with shape (batch_size, max_length)\n",
        "        @return   logits (torch.Tensor): an output tensor with shape (batch_size,\n",
        "                      num_labels)\n",
        "        \"\"\"\n",
        "        # Feed input to DistilBERT\n",
        "        outputs = self.distilbert(input_ids=input_ids,\n",
        "                                  attention_mask=attention_mask)\n",
        "\n",
        "        # Extract the last hidden state of the token `[CLS]` for classification task\n",
        "        last_hidden_state_cls = outputs[0][:, 0, :]\n",
        "\n",
        "        # Feed input to classifier to compute logits\n",
        "        logits = self.classifier(last_hidden_state_cls)\n",
        "\n",
        "        return logits"
      ],
      "metadata": {
        "colab": {
          "base_uri": "https://localhost:8080/"
        },
        "id": "Ju2EaZGMNhlx",
        "outputId": "35dfca35-ccac-4843-bdbc-9ddf4abe17a7"
      },
      "execution_count": 17,
      "outputs": [
        {
          "output_type": "stream",
          "name": "stdout",
          "text": [
            "CPU times: user 9.85 ms, sys: 1.86 ms, total: 11.7 ms\n",
            "Wall time: 16 ms\n"
          ]
        }
      ]
    },
    {
      "cell_type": "code",
      "source": [
        "def initialize_distilbert_model(epochs=2):\n",
        "    # Create the DistilBertClassifier model\n",
        "    device = torch.device(\"cuda\" if torch.cuda.is_available() else \"cpu\")\n",
        "    distilbert_classifier = DistilBertClassifier().to(device)\n",
        "\n",
        "    # Define the optimizer\n",
        "    optimizer = AdamW(distilbert_classifier.parameters(),\n",
        "                      lr=5e-5,    # Default learning rate\n",
        "                      eps=1e-8    # Default epsilon value\n",
        "                     )\n",
        "\n",
        "    # Total number of training steps\n",
        "    total_steps = len(train_dataloader) * epochs\n",
        "\n",
        "    # Create the learning rate scheduler\n",
        "    scheduler = get_linear_schedule_with_warmup(optimizer,\n",
        "                                                num_warmup_steps=0, # Default value\n",
        "                                                num_training_steps=total_steps)\n",
        "\n",
        "    return distilbert_classifier, optimizer, scheduler\n"
      ],
      "metadata": {
        "id": "8aE5pihFN3ht"
      },
      "execution_count": 18,
      "outputs": []
    },
    {
      "cell_type": "code",
      "source": [
        "# Import necessary libraries\n",
        "import random\n",
        "import time\n",
        "import torch\n",
        "from torch.optim import AdamW\n",
        "from transformers import get_linear_schedule_with_warmup\n",
        "\n",
        "# Specify loss function\n",
        "loss_fn = torch.nn.CrossEntropyLoss()\n",
        "\n",
        "def set_seed(seed_value=42):\n",
        "    \"\"\"Set seed for reproducibility.\"\"\"\n",
        "    random.seed(seed_value)\n",
        "    np.random.seed(seed_value)\n",
        "    torch.manual_seed(seed_value)\n",
        "    torch.cuda.manual_seed_all(seed_value)\n",
        "\n",
        "def initialize_distilbert_model(epochs=2):\n",
        "    # Create the DistilBertClassifier model\n",
        "    distilbert_classifier = DistilBertClassifier()\n",
        "\n",
        "    # Define the optimizer\n",
        "    optimizer = AdamW(distilbert_classifier.parameters(),\n",
        "                      lr=5e-5,    # Default learning rate\n",
        "                      eps=1e-8    # Default epsilon value\n",
        "                     )\n",
        "\n",
        "    # Total number of training steps\n",
        "    total_steps = len(train_dataloader) * epochs\n",
        "\n",
        "    # Create the learning rate scheduler\n",
        "    scheduler = get_linear_schedule_with_warmup(optimizer,\n",
        "                                                num_warmup_steps=0, # Default value\n",
        "                                                num_training_steps=total_steps)\n",
        "\n",
        "    return distilbert_classifier, optimizer, scheduler\n",
        "\n",
        "def train(model, train_dataloader, val_dataloader=None, epochs=4, evaluation=False):\n",
        "    \"\"\"Train the DistilBertClassifier model.\"\"\"\n",
        "\n",
        "    # Start training loop\n",
        "    print(\"Start training...\\n\")\n",
        "    for epoch_i in range(epochs):\n",
        "\n",
        "        # =======================================\n",
        "        #               Training\n",
        "        # =======================================\n",
        "\n",
        "        # Print the header of the result table\n",
        "        print(f\"{'Epoch':^7} | {'Batch':^7} | {'Train Loss':^12} | {'Val Loss':^10} | {'Val Acc':^9} | {'Elapsed':^9}\")\n",
        "        print(\"-\"*70)\n",
        "\n",
        "        # Measure the elapsed time of each epoch\n",
        "        t0_epoch, t0_batch = time.time(), time.time()\n",
        "\n",
        "        # Reset tracking variables at the beginning of each epoch\n",
        "        total_loss, batch_loss, batch_counts = 0, 0, 0\n",
        "\n",
        "        # Put the model into the training mode\n",
        "        model.train()\n",
        "\n",
        "        # For each batch of training data...\n",
        "        for step, batch in enumerate(train_dataloader):\n",
        "            batch_counts += 1\n",
        "\n",
        "            # Load batch to GPU\n",
        "            b_input_ids, b_attn_mask, b_labels = tuple(t.to(device) for t in batch)\n",
        "\n",
        "            # Zero out any previously calculated gradients\n",
        "            model.zero_grad()\n",
        "\n",
        "            # Perform a forward pass. This will return logits.\n",
        "            logits = model(b_input_ids, b_attn_mask)\n",
        "\n",
        "            # Compute loss and accumulate the loss values\n",
        "            loss = loss_fn(logits, b_labels)\n",
        "            batch_loss += loss.item()\n",
        "            total_loss += loss.item()\n",
        "\n",
        "            # Perform a backward pass to calculate gradients\n",
        "            loss.backward()\n",
        "\n",
        "            # Clip the norm of the gradients to 1.0 to prevent \"exploding gradients\"\n",
        "            torch.nn.utils.clip_grad_norm_(model.parameters(), 1.0)\n",
        "\n",
        "            # Update parameters and the learning rate\n",
        "            optimizer.step()\n",
        "            scheduler.step()\n",
        "\n",
        "            # Print the loss values and time elapsed for every 20 batches\n",
        "            if (step % 20 == 0 and step != 0) or (step == len(train_dataloader) - 1):\n",
        "                # Calculate time elapsed for 20 batches\n",
        "                time_elapsed = time.time() - t0_batch\n",
        "\n",
        "                # Print training results\n",
        "                print(f\"{epoch_i + 1:^7} | {step:^7} | {batch_loss / batch_counts:^12.6f} | {'-':^10} | {'-':^9} | {time_elapsed:^9.2f}\")\n",
        "\n",
        "                # Reset batch tracking variables\n",
        "                batch_loss, batch_counts = 0, 0\n",
        "                t0_batch = time.time()\n",
        "\n",
        "            # Free up GPU memory at the end of each batch\n",
        "            del batch\n",
        "            torch.cuda.empty_cache()\n",
        "\n",
        "        # Calculate the average loss over the entire training data\n",
        "        avg_train_loss = total_loss / len(train_dataloader)\n",
        "        print(\"-\"*70)\n",
        "\n",
        "        # =======================================\n",
        "        #               Evaluation\n",
        "        # =======================================\n",
        "\n",
        "        if evaluation == True:\n",
        "            # After the completion of each training epoch, measure the model's performance\n",
        "            # on our validation set.\n",
        "            val_loss, val_accuracy = evaluate(model, val_dataloader)\n",
        "\n",
        "            # Print performance over the entire training data\n",
        "            time_elapsed = time.time() - t0_epoch\n",
        "            print(f\"{epoch_i + 1:^7} | {'-':^7} | {avg_train_loss:^12.6f} | {val_loss:^10.6f} | {val_accuracy:^9.2f} | {time_elapsed:^9.2f}\")\n",
        "            print(\"-\"*70)\n",
        "        print(\"\\n\")\n",
        "\n",
        "    print(\"Training complete!\")\n",
        "\n",
        "\n",
        "def evaluate(model, val_dataloader):\n",
        "    \"\"\"After the completion of each training epoch, measure the model's performance\n",
        "    on our validation set.\"\"\"\n",
        "\n",
        "    # Put the model into the evaluation mode. The dropout layers are disabled during\n",
        "    # the test time.\n",
        "    model.eval()\n",
        "\n",
        "    # Tracking variables\n",
        "    val_accuracy = []\n",
        "    val_loss = []\n",
        "\n",
        "    # For each batch in our validation set...\n",
        "    for batch in val_dataloader:\n",
        "        # Load batch to GPU\n",
        "        b_input_ids, b_attn_mask, b_labels = tuple(t.to(device) for t in batch)\n",
        "\n",
        "        # Compute logits\n",
        "        with torch.no_grad():\n",
        "            logits = model(b_input_ids, b_attn_mask)\n",
        "\n",
        "        # Compute loss\n",
        "        loss = loss_fn(logits, b_labels)\n",
        "        val_loss.append(loss.item())\n",
        "\n",
        "        # Get the predictions\n",
        "        preds = torch.argmax(logits, dim=1).flatten()\n",
        "\n",
        "        # Calculate the accuracy rate\n",
        "        accuracy = (preds == b_labels).cpu().numpy().mean() * 100\n",
        "        val_accuracy.append(accuracy)\n",
        "\n",
        "    # Compute the average accuracy and loss over the validation set.\n",
        "    val_loss = np.mean(val_loss)\n",
        "    val_accuracy = np.mean(val_accuracy)\n",
        "\n",
        "    return val_loss, val_accuracy"
      ],
      "metadata": {
        "id": "II6quhHGN5a8"
      },
      "execution_count": 19,
      "outputs": []
    },
    {
      "cell_type": "code",
      "source": [
        "# Set seed for reproducibility\n",
        "set_seed(42)\n",
        "\n",
        "# Initialize model, optimizer, and scheduler\n",
        "distilbert_classifier, optimizer, scheduler = initialize_distilbert_model(epochs=2)\n",
        "\n",
        "# Train the model\n",
        "train(distilbert_classifier, train_dataloader, val_dataloader, epochs=2, evaluation=True)"
      ],
      "metadata": {
        "colab": {
          "base_uri": "https://localhost:8080/",
          "height": 674,
          "referenced_widgets": [
            "8f55beba52054395801304d08fed46a3",
            "797cc6cfb3c34321b2643aeea038030f",
            "53373fec6a924d6888a15c0bb85a9b47",
            "b899fed51e6a4c52b31a49dbd70f6574",
            "65ae0db3b6f344808333219218fb4ffc",
            "22e92de8957740fdaaf553aec907eae8",
            "5c1e1ab8ccce4aa5a4d10c72f5ad8551",
            "4e2242dba4c742779cdfa7301d6e401e",
            "42f462f624274e3abbb7ec547814bcbf",
            "cdc52e5749fc42a4a40107b11a96e36e",
            "3610a833d9644b00a36b04227855c159"
          ]
        },
        "id": "KF5BYEUXNkeB",
        "outputId": "2d4c431a-65c5-4e7f-db06-13766b83d384"
      },
      "execution_count": 20,
      "outputs": [
        {
          "output_type": "display_data",
          "data": {
            "text/plain": [
              "model.safetensors:   0%|          | 0.00/268M [00:00<?, ?B/s]"
            ],
            "application/vnd.jupyter.widget-view+json": {
              "version_major": 2,
              "version_minor": 0,
              "model_id": "8f55beba52054395801304d08fed46a3"
            }
          },
          "metadata": {}
        },
        {
          "output_type": "stream",
          "name": "stdout",
          "text": [
            "Start training...\n",
            "\n",
            " Epoch  |  Batch  |  Train Loss  |  Val Loss  |  Val Acc  |  Elapsed \n",
            "----------------------------------------------------------------------\n",
            "   1    |   20    |   0.487986   |     -      |     -     |  453.77  \n",
            "   1    |   40    |   0.359545   |     -      |     -     |  424.90  \n",
            "   1    |   60    |   0.330493   |     -      |     -     |  417.79  \n",
            "   1    |   80    |   0.270221   |     -      |     -     |  418.76  \n",
            "   1    |   100   |   0.287637   |     -      |     -     |  416.60  \n",
            "   1    |   120   |   0.247758   |     -      |     -     |  416.28  \n",
            "   1    |   140   |   0.289239   |     -      |     -     |  420.48  \n",
            "   1    |   160   |   0.260651   |     -      |     -     |  417.36  \n",
            "   1    |   167   |   0.233709   |     -      |     -     |  135.75  \n",
            "----------------------------------------------------------------------\n",
            "   1    |    -    |   0.314253   |  0.249494  |   90.10   |  3767.45 \n",
            "----------------------------------------------------------------------\n",
            "\n",
            "\n",
            " Epoch  |  Batch  |  Train Loss  |  Val Loss  |  Val Acc  |  Elapsed \n",
            "----------------------------------------------------------------------\n",
            "   2    |   20    |   0.163306   |     -      |     -     |  447.93  \n",
            "   2    |   40    |   0.123428   |     -      |     -     |  421.88  \n",
            "   2    |   60    |   0.125488   |     -      |     -     |  421.49  \n",
            "   2    |   80    |   0.168880   |     -      |     -     |  418.54  \n",
            "   2    |   100   |   0.141717   |     -      |     -     |  418.81  \n",
            "   2    |   120   |   0.120556   |     -      |     -     |  417.31  \n",
            "   2    |   140   |   0.133133   |     -      |     -     |  416.73  \n",
            "   2    |   160   |   0.100535   |     -      |     -     |  417.75  \n",
            "   2    |   167   |   0.141125   |     -      |     -     |  135.77  \n",
            "----------------------------------------------------------------------\n",
            "   2    |    -    |   0.135072   |  0.265710  |   91.23   |  3760.41 \n",
            "----------------------------------------------------------------------\n",
            "\n",
            "\n",
            "Training complete!\n"
          ]
        }
      ]
    },
    {
      "cell_type": "code",
      "source": [
        "import torch.nn.functional as F\n",
        "\n",
        "def distilbert_predict(model, test_dataloader):\n",
        "    \"\"\"Perform a forward pass on the trained BERT model to predict probabilities\n",
        "    on the test set.\n",
        "    \"\"\"\n",
        "    # Put the model into the evaluation mode. The dropout layers are disabled during\n",
        "    # the test time.\n",
        "    model.eval()\n",
        "    all_logits = []\n",
        "\n",
        "    # For each batch in our test set...\n",
        "    for batch in test_dataloader:\n",
        "        # Load batch to CPU\n",
        "        b_input_ids, b_attn_mask = tuple(t.to(device) for t in batch)[:2]\n",
        "\n",
        "        # Compute logits\n",
        "        with torch.no_grad():\n",
        "            logits = model(b_input_ids, b_attn_mask)\n",
        "\n",
        "        all_logits.append(logits)\n",
        "\n",
        "        # Free up GPU memory\n",
        "        del b_input_ids\n",
        "        del b_attn_mask\n",
        "        torch.cuda.empty_cache()\n",
        "\n",
        "    # Concatenate logits from each batch\n",
        "    all_logits = torch.cat(all_logits, dim=0)\n",
        "\n",
        "    # Apply softmax to calculate probabilities\n",
        "    probs = F.softmax(all_logits, dim=1).cpu().numpy()\n",
        "\n",
        "    return probs\n"
      ],
      "metadata": {
        "id": "zZ5TsNviOJnS"
      },
      "execution_count": 21,
      "outputs": []
    },
    {
      "cell_type": "code",
      "source": [
        "probs = distilbert_predict(distilbert_classifier, test_dataloader)"
      ],
      "metadata": {
        "id": "ewt6C2_XOLTj"
      },
      "execution_count": 22,
      "outputs": []
    },
    {
      "cell_type": "code",
      "source": [
        "evaluate_roc(probs, y_test)"
      ],
      "metadata": {
        "colab": {
          "base_uri": "https://localhost:8080/",
          "height": 508
        },
        "id": "zPzHcYxvOOH_",
        "outputId": "c1dcb6ff-bf41-4e59-81df-8838b8cc0284"
      },
      "execution_count": 23,
      "outputs": [
        {
          "output_type": "stream",
          "name": "stdout",
          "text": [
            "AUC: 0.4927\n",
            "Accuracy: 64.06%\n"
          ]
        },
        {
          "output_type": "display_data",
          "data": {
            "text/plain": [
              "<Figure size 640x480 with 1 Axes>"
            ],
            "image/png": "[encoded data removed]"
          },
          "metadata": {}
        }
      ]
    },
    {
      "cell_type": "code",
      "source": [
        "import numpy as np\n",
        "from sklearn.metrics import f1_score\n",
        "\n",
        "# Threshold the probabilities to get binary predictions\n",
        "y_pred = np.where(probs[:, 1] >= 0.5, 1, 0)\n",
        "\n",
        "# Compute the F1-score\n",
        "f1 = f1_score(y_test, y_pred)\n",
        "\n",
        "print(\"F1-score:\", f1)\n"
      ],
      "metadata": {
        "colab": {
          "base_uri": "https://localhost:8080/"
        },
        "id": "73skuBnotTHI",
        "outputId": "9a3d6df2-4bb9-4e61-cf4f-32622d44ecc2"
      },
      "execution_count": 26,
      "outputs": [
        {
          "output_type": "stream",
          "name": "stdout",
          "text": [
            "F1-score: 0.7704280155642023\n"
          ]
        }
      ]
    },
    {
      "cell_type": "code",
      "source": [],
      "metadata": {
        "id": "tNygq3Qzu_dU"
      },
      "execution_count": null,
      "outputs": []
    }
  ]
}