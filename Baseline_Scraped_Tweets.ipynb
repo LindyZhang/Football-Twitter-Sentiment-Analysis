{
  "nbformat": 4,
  "nbformat_minor": 0,
  "metadata": {
    "colab": {
      "provenance": []
    },
    "kernelspec": {
      "name": "python3",
      "display_name": "Python 3"
    },
    "language_info": {
      "name": "python"
    }
  },
  "cells": [
    {
      "cell_type": "code",
      "execution_count": 1,
      "metadata": {
        "id": "ohNh5a-A05e7"
      },
      "outputs": [],
      "source": [
        "import os\n",
        "import re\n",
        "\n",
        "from tqdm import tqdm\n",
        "import numpy as np\n",
        "import pandas as pd\n",
        "import matplotlib.pyplot as plt\n",
        "\n",
        "%matplotlib inline"
      ]
    },
    {
      "cell_type": "code",
      "source": [
        "# This one is for files that originate from a google drive (scraped data)\n",
        "from google.colab import drive\n",
        "drive.mount('/content/drive')"
      ],
      "metadata": {
        "colab": {
          "base_uri": "https://localhost:8080/"
        },
        "id": "U0NkbzBn1B4V",
        "outputId": "28361c21-fa96-465c-c80e-b11095b57c72"
      },
      "execution_count": 2,
      "outputs": [
        {
          "output_type": "stream",
          "name": "stdout",
          "text": [
            "Mounted at /content/drive\n"
          ]
        }
      ]
    },
    {
      "cell_type": "markdown",
      "source": [
        "We scraped tweets and stored them as text files in dataset. The cell below gets the tweets from the files and stores them in text_examples"
      ],
      "metadata": {
        "id": "KC2SaNa81SdQ"
      }
    },
    {
      "cell_type": "code",
      "source": [
        "folder_path = '/content/drive/My Drive/Colab Notebooks/dataset/'\n",
        "def read_folder(folder):\n",
        "    examples = []\n",
        "    for subdir in os.listdir(folder):\n",
        "        subdir_path = os.path.join(folder, subdir)\n",
        "        if os.path.isdir(subdir_path):  # Check if it's a directory\n",
        "            files_read = 0  # Counter for the number of files read from each folder\n",
        "            for fname in os.listdir(subdir_path):\n",
        "                file_path = os.path.join(subdir_path, fname)\n",
        "                if os.path.isfile(file_path) and file_path.endswith('.txt'):  # Check if it's a file and ends with '.txt'\n",
        "                    with open(file_path, encoding='utf8') as f:\n",
        "                        examples.append(f.readline().strip())\n",
        "    return examples\n",
        "test_examples = read_folder(folder_path)\n",
        "print('Number of examples: {}'.format(len(test_examples)))\n",
        "print('Sample example: {}\\n\\n'.format(test_examples[0]))\n",
        "print(test_examples[:10])"
      ],
      "metadata": {
        "colab": {
          "base_uri": "https://localhost:8080/"
        },
        "id": "byqMoluz1HuL",
        "outputId": "992f9d32-99cd-4f04-f00e-4d15b1abec6c"
      },
      "execution_count": 3,
      "outputs": [
        {
          "output_type": "stream",
          "name": "stdout",
          "text": [
            "Number of examples: 7657\n",
            "Sample example: Sheffield United manager Chris Wilder has confirmed that Jadon Bogle and Jack Robinson will miss their upcoming #PL match against Burnley due to their injuries.   #SUFC\n",
            "\n",
            "\n",
            "['Sheffield United manager Chris Wilder has confirmed that Jadon Bogle and Jack Robinson will miss their upcoming #PL match against Burnley due to their injuries.   #SUFC', 'Whatever the outcome on Saturday, what a season it s been.  Let s go one final time on Saturday!   ️ #SUFC #RootsHall', \"Aldershot and Gateshead tease each other over 'hoo-ha' for postponed fixture - https://t.co/8C9veElgPk  #afc #avfc #afcb #brentfordfc #bhafc #twitterclarets #cfc #cpfc #efc #ffc #lfc #coyh #ltfc #mancity #mufc #nufc #nffc #twitterblades #sufc #thfc #coys #whufc #coyi #wwfc\", 'Prince Abdullah on Instagram. #twitterblades #sufc https://t.co/gkV3YwUrwL', 'Barnsley player gets hit in the head by Portsmouth fan during pitch invasion -  https://t.co/Wloq1qLlcZ  #afc #avfc #afcb #brentfordfc #bhafc #twitterclarets #cfc #cpfc #efc #ffc #lfc #coyh #ltfc #mancity #mufc #nufc #nffc #twitterblades #sufc #thfc #coys #whufc #coyi #wwfc', \"Sunderland's Dan Ballard goes viral after celebrating in front of West Brom fans -  https://t.co/cmNMOAxKUk  #afc #avfc #afcb #brentfordfc #bhafc #twitterclarets #cfc #cpfc #efc #ffc #lfc #coyh #ltfc #mancity #mufc #nufc #nffc #twitterblades #sufc #thfc #coys #whufc #coyi #wwfc\", 'Stewards and Portsmouth fan get into fight after 89th minute winner vs Barnsley  - https://t.co/IVrWMNnF5h  #afc #avfc #afcb #brentfordfc #bhafc #twitterclarets #cfc #cpfc #efc #ffc #lfc #coyh #ltfc #mancity #mufc #nufc #nffc #twitterblades #sufc #thfc #coys #whufc #coyi #wwfc', 'Sheffield United 23/24 Squad Signed SE Special Edition Home Shirt  £31.00 currently  2 bids, 2 watchers  Ends Mon 22nd Apr @ 12:07am  https://t.co/tVzMTmHu8j  #ad #sufc #twitterblades https://t.co/i7dXDeZRDe', 'People saying no really want us in a relegation scrap next year  #twitterblades #sufc', 'SHEFFIELD United Large Car Sticker  £2.00 currently  2 bids, 5 watchers  Ends Thu 18th Apr @ 3:11pm  https://t.co/5FezIaOs0Y  #ad #sufc #twitterblades https://t.co/GleDYL4Pe7']\n"
          ]
        }
      ]
    },
    {
      "cell_type": "code",
      "source": [
        "import torch\n",
        "\n",
        "if torch.cuda.is_available():\n",
        "    device = torch.device(\"cuda\")\n",
        "    print(f'There are {torch.cuda.device_count()} GPU(s) available.')\n",
        "    print('Device name:', torch.cuda.get_device_name(0))\n",
        "\n",
        "else:\n",
        "    print('No GPU available, using the CPU instead.')\n",
        "    device = torch.device(\"cpu\")"
      ],
      "metadata": {
        "colab": {
          "base_uri": "https://localhost:8080/"
        },
        "id": "BCMpJDyE1c88",
        "outputId": "e78e73c0-3c98-4747-e0b3-d2c955e8a030"
      },
      "execution_count": 4,
      "outputs": [
        {
          "output_type": "stream",
          "name": "stdout",
          "text": [
            "No GPU available, using the CPU instead.\n"
          ]
        }
      ]
    },
    {
      "cell_type": "markdown",
      "source": [
        "This is to get the sentiments of each tweet because they are unlabelled originally"
      ],
      "metadata": {
        "id": "4KOXaWoT1nMh"
      }
    },
    {
      "cell_type": "code",
      "source": [
        "import nltk\n",
        "nltk.download('vader_lexicon')"
      ],
      "metadata": {
        "colab": {
          "base_uri": "https://localhost:8080/"
        },
        "id": "hiOwoEvH1fmT",
        "outputId": "7288c8a2-1fd0-4b2d-86bf-4707d46cab36"
      },
      "execution_count": 5,
      "outputs": [
        {
          "output_type": "stream",
          "name": "stderr",
          "text": [
            "[nltk_data] Downloading package vader_lexicon to /root/nltk_data...\n"
          ]
        },
        {
          "output_type": "execute_result",
          "data": {
            "text/plain": [
              "True"
            ]
          },
          "metadata": {},
          "execution_count": 5
        }
      ]
    },
    {
      "cell_type": "code",
      "source": [
        "soccer_df = pd.DataFrame({'text': test_examples})\n",
        "print(soccer_df)"
      ],
      "metadata": {
        "colab": {
          "base_uri": "https://localhost:8080/"
        },
        "id": "KXzYcknB1rVv",
        "outputId": "bf82f141-4a58-44ab-e2cd-16c1519408a9"
      },
      "execution_count": 6,
      "outputs": [
        {
          "output_type": "stream",
          "name": "stdout",
          "text": [
            "                                                   text\n",
            "0     Sheffield United manager Chris Wilder has conf...\n",
            "1     Whatever the outcome on Saturday, what a seaso...\n",
            "2     Aldershot and Gateshead tease each other over ...\n",
            "3     Prince Abdullah on Instagram. #twitterblades #...\n",
            "4     Barnsley player gets hit in the head by Portsm...\n",
            "...                                                 ...\n",
            "7652  Although, Wilcox is appointed but Utd's curren...\n",
            "7653  #mufc Revoke The United Stand's Press Credenti...\n",
            "7654  Sancho s bonuses for getting into the champion...\n",
            "7655  #Sirjim is doing a great work at Manchester Un...\n",
            "7656  EXCLUSIVE: Manchester United have agreed compe...\n",
            "\n",
            "[7657 rows x 1 columns]\n"
          ]
        }
      ]
    },
    {
      "cell_type": "code",
      "source": [
        "from nltk.sentiment.vader import SentimentIntensityAnalyzer\n",
        "\n",
        "def text_preprocessing(text):\n",
        "    \"\"\"\n",
        "    - Remove entity mentions (eg. '#AFC')\n",
        "    - Correct errors (eg. '&amp;' to '&')\n",
        "    @param    text (str): a string to be processed.\n",
        "    @return   text (Str): the processed string.\n",
        "    \"\"\"\n",
        "    # Remove '#name'\n",
        "    text = re.sub(r'#\\w+(\\s|$)', ' ', text)\n",
        "\n",
        "\n",
        "    # Replace '&amp;' with '&'\n",
        "    text = re.sub(r'&amp;', '&', text)\n",
        "\n",
        "    # Remove links\n",
        "    text = re.sub(r'https?://\\S+', '', text)\n",
        "\n",
        "    # Remove trailing whitespace\n",
        "    text = re.sub(r'\\s+', ' ', text).strip()\n",
        "\n",
        "    return text\n",
        "\n",
        "sia = SentimentIntensityAnalyzer()\n",
        "def compute_sentiment(text):\n",
        "    # Preprocess the text (if needed)\n",
        "    preprocessed_text = text_preprocessing(text)\n",
        "\n",
        "    # Compute sentiment score\n",
        "    scores = sia.polarity_scores(preprocessed_text)\n",
        "\n",
        "    return scores['compound']\n",
        "\n",
        "soccer_df['sentiment_score'] = soccer_df['text'].apply(compute_sentiment)\n",
        "\n",
        "def categorize_sentiment(score):\n",
        "  if score >= 0:\n",
        "    return 1\n",
        "  else:\n",
        "    return 0\n",
        "\n",
        "soccer_df['sentiment'] = soccer_df['sentiment_score'].apply(categorize_sentiment)"
      ],
      "metadata": {
        "id": "9vSo_M731uFa"
      },
      "execution_count": 7,
      "outputs": []
    },
    {
      "cell_type": "code",
      "source": [
        "import nltk\n",
        "nltk.download('stopwords')\n",
        "from nltk.corpus import stopwords\n",
        "\n",
        "def text_preprocessing(s):\n",
        "  '''\n",
        "  - change all to lowercase\n",
        "  - change \"'t\" to \"not\"\n",
        "  - remove \"@name\"\n",
        "  - remove punctuations except \"?\"\n",
        "  - remove stop words except \"not\" and \"can\"\n",
        "  - remove trailing whitespace\n",
        "  '''\n",
        "  # lower case\n",
        "  s = s.lower()\n",
        "  # change 't to not\n",
        "  s = re.sub(r\"\\'t\", \" not\", s)\n",
        "  # remove @name\n",
        "  s = re.sub(r'(@.*?)[\\s]', ' ', s)\n",
        "  # Isolate and remove punctuations except '?'\n",
        "  s = re.sub(r'([\\'\\\"\\.\\(\\)\\!\\?\\\\\\/\\,])', r'  ', s)\n",
        "  s = re.sub(r'[^\\w\\s\\?]', ' ', s)\n",
        "  # Remove some special characters\n",
        "  s = re.sub(r'([\\;\\:\\|•«\\n])', ' ', s)\n",
        "  # Remove stopwords except 'not' and 'can'\n",
        "  s = \" \".join([word for word in s.split()\n",
        "                if word not in stopwords.words('english')\n",
        "                or word in ['not', 'can']])\n",
        "  # Remove trailing whitespace\n",
        "  s = re.sub(r'\\s+', ' ', s).strip()\n",
        "\n",
        "  return s\n"
      ],
      "metadata": {
        "colab": {
          "base_uri": "https://localhost:8080/"
        },
        "id": "5ZRHA59f1v4e",
        "outputId": "4899cc78-62c6-445b-ec56-0a9577225cda"
      },
      "execution_count": 8,
      "outputs": [
        {
          "output_type": "stream",
          "name": "stderr",
          "text": [
            "[nltk_data] Downloading package stopwords to /root/nltk_data...\n",
            "[nltk_data]   Unzipping corpora/stopwords.zip.\n"
          ]
        }
      ]
    },
    {
      "cell_type": "markdown",
      "source": [
        "We want training, validation, and testing data."
      ],
      "metadata": {
        "id": "xqEMNJXM1y6T"
      }
    },
    {
      "cell_type": "code",
      "source": [
        "from sklearn.model_selection import train_test_split\n",
        "\n",
        "X = soccer_df.text.values\n",
        "y = soccer_df.sentiment.values\n",
        "X_train, X_other, y_train, y_other = train_test_split(X, y, test_size = 0.3, random_state = 2020)\n",
        "X_val, X_test, y_val, y_test = train_test_split(X_other, y_other, test_size = 0.5, random_state = 2020)"
      ],
      "metadata": {
        "id": "7wIV1Hby1xap"
      },
      "execution_count": 9,
      "outputs": []
    },
    {
      "cell_type": "code",
      "source": [
        "print('X_train: ', X_train[:5])\n",
        "print('X_val: ', X_val[:5])\n",
        "print('y_train: ', y_train[:5])\n",
        "print('y_val: ', y_val[:5])"
      ],
      "metadata": {
        "colab": {
          "base_uri": "https://localhost:8080/"
        },
        "id": "hV4VQZbR12zG",
        "outputId": "ef7966b6-f65f-41b1-b3c1-e32a121f1d12"
      },
      "execution_count": 10,
      "outputs": [
        {
          "output_type": "stream",
          "name": "stdout",
          "text": [
            "X_train:  ['Enzo Fernandez, Axel Disasi and Raheem Sterling have been taken off Chelsea\\'s injury list. And Nkunku is in \"partial team training.\" #CFC #EmiratesFACup'\n",
            " \"If there's one thing I can be proud of this season, it's that Carrington is still producing quality players        Kobbie   &amp; Alejandro  #MUFC\"\n",
            " 'Pochettino on Palmer:  But it s true we are a coaching staff that we always demand more.  Yes you score, but you need to work. Yes you score, but you need to run when we don t have the ball . But he s doing well.  [standard] #cfc'\n",
            " 'Charlie Goode has returned to #BrentfordFC midway through his loan spell at Wigan due to  personal reasons  https://t.co/bg1vTvjH3i'\n",
            " 'Glasner is the first person to arrive at the club s Copers Cope training ground and the last to leave.  Many at the club believe he is one to take them to the next level.   @iamrahmanosman #CPFC https://t.co/8MDUrGPYQc']\n",
            "X_val:  [\"9th tier club win 12-0 at league's worst side after needing 12 goal swing for playoffs -  https://t.co/ju9cREidrG  #afc #avfc #afcb #brentfordfc #bhafc #twitterclarets #cfc #cpfc #efc #ffc #lfc #coyh #ltfc #mancity #mufc #nufc #nffc #twitterblades #thfc #coys #whufc #coyi #wwfc\"\n",
            " 'Barnsley player gets hit in the head by Portsmouth fan during pitch invasion -  https://t.co/Wloq1qLlcZ  #afc #avfc #afcb #brentfordfc #bhafc #twitterclarets #cfc #cpfc #efc #ffc #lfc #coyh #ltfc #mancity #mufc #nufc #nffc #twitterblades #sufc #thfc #coys #whufc #coyi #wwfc'\n",
            " 'Lerma unavailable for both West Ham and Newcastle will be a really big miss.   Hopefully Ward pulls through and is deemed fit enough for West Ham by tomorrow.   The option of Holding or Tomkins there to cover Lerma. I doubt Richards makes it in time #CPFC'\n",
            " '@Galaxy4T2 @BBCRNS @LouisWheeldonNS Loyalty means nothing #nffc where was that waiting list 5 years ago!!!!'\n",
            " 'EXCLUSIVE: Manchester United have agreed compensation to appoint Jason Wilcox as new technical director.  Deal completed now, he s joining from Southampton as former Man City s Head of Academy will be key part of INEOS project at #MUFC.  Talks continue for Dan Ashworth too. Some Zidane rumors too']\n",
            "y_train:  [0 1 1 1 0]\n",
            "y_val:  [0 1 1 1 1]\n"
          ]
        }
      ]
    },
    {
      "cell_type": "code",
      "source": [
        "%%time\n",
        "from sklearn.feature_extraction.text import TfidfVectorizer\n",
        "\n",
        "# Preprocess X_train and X_val separately\n",
        "X_train_preprocessed = np.array([text_preprocessing(text) for text in X_train])\n",
        "X_val_preprocessed = np.array([text_preprocessing(text) for text in X_val])\n",
        "X_test_preprocessed = np.array([text_preprocessing(text) for text in X_test])\n",
        "\n",
        "# Initialize TF-IDF vectorizer\n",
        "tf_idf = TfidfVectorizer(ngram_range=(1, 3), binary=True, smooth_idf=False)\n",
        "\n",
        "# Fit and transform TF-IDF vectorizer on X_train_preprocessed\n",
        "X_train_tfidf = tf_idf.fit_transform(X_train_preprocessed)\n",
        "\n",
        "# Transform X_val_preprocessed and X_test_preprocessed using the fitted TF-IDF vectorizer\n",
        "X_val_tfidf = tf_idf.transform(X_val_preprocessed)\n",
        "X_test_tfidf = tf_idf.transform(X_test_preprocessed)"
      ],
      "metadata": {
        "colab": {
          "base_uri": "https://localhost:8080/"
        },
        "id": "7axTxpEC15fn",
        "outputId": "6505a341-903e-40dd-8b1d-65fe5e75f01e"
      },
      "execution_count": 11,
      "outputs": [
        {
          "output_type": "stream",
          "name": "stdout",
          "text": [
            "CPU times: user 25.5 s, sys: 3.54 s, total: 29 s\n",
            "Wall time: 29.9 s\n"
          ]
        }
      ]
    },
    {
      "cell_type": "code",
      "source": [
        "from sklearn.model_selection import StratifiedKFold, cross_val_score\n",
        "from scipy.sparse import vstack\n",
        "\n",
        "def get_auc_CV(model):\n",
        "    '''\n",
        "    Return the average AUC score from cross-validation\n",
        "    '''\n",
        "    # Set KFold to shuffle data pre-split\n",
        "    kf = StratifiedKFold(5, shuffle=True, random_state=1)\n",
        "\n",
        "    # Concatenate training and validation features\n",
        "    X_train_val = vstack((X_train_tfidf, X_val_tfidf))\n",
        "\n",
        "    # Concatenate training and validation target labels\n",
        "    y_train_val = np.concatenate((y_train, y_val))\n",
        "\n",
        "    # Get AUC scores\n",
        "    auc = cross_val_score(model, X_train_val, y_train_val, scoring=\"roc_auc\", cv=kf)\n",
        "    return auc.mean()"
      ],
      "metadata": {
        "id": "QdV37Cju15de"
      },
      "execution_count": 12,
      "outputs": []
    },
    {
      "cell_type": "markdown",
      "source": [
        "We want to optimize the hyperparameter of alpha"
      ],
      "metadata": {
        "id": "ohNnh2SW1_NS"
      }
    },
    {
      "cell_type": "code",
      "source": [
        "from sklearn.naive_bayes import MultinomialNB\n",
        "\n",
        "res = pd.Series([get_auc_CV(MultinomialNB(alpha = i))\n",
        "                 for i in np.arange(0.1, 1, 0.02)],\n",
        "                index=np.arange(0.1, 1, 0.02))\n",
        "\n",
        "best_alpha = np.round(res.idxmax(), 2)\n",
        "print('Best alpha: ', best_alpha)\n",
        "\n",
        "plt.plot(res)\n",
        "plt.title('AUC vs. Alpha')\n",
        "plt.xlabel('Alpha')\n",
        "plt.ylabel('AUC')\n",
        "plt.show()"
      ],
      "metadata": {
        "colab": {
          "base_uri": "https://localhost:8080/",
          "height": 490
        },
        "id": "SVzNAeDr15a3",
        "outputId": "3d6bc72e-f9c1-4e91-d115-33fc2b5229c6"
      },
      "execution_count": 13,
      "outputs": [
        {
          "output_type": "stream",
          "name": "stdout",
          "text": [
            "Best alpha:  0.14\n"
          ]
        },
        {
          "output_type": "display_data",
          "data": {
            "text/plain": [
              "<Figure size 640x480 with 1 Axes>"
            ],
            "image/png": "[encoded data removed]"
          },
          "metadata": {}
        }
      ]
    },
    {
      "cell_type": "code",
      "source": [
        "from sklearn.metrics import accuracy_score, roc_curve, auc\n",
        "\n",
        "def evaluate_roc(probs, y_true):\n",
        "  '''\n",
        "  - print auc and accuracy on validation set\n",
        "  - plot roc\n",
        "  @params   probs (np.array): array of predicted probabilities with shape (len(y_true), 2)\n",
        "  @params   y_true (np.array): array of the true values with shape (len(y_true),)\n",
        "  '''\n",
        "  preds = probs[:, 1]\n",
        "  fpr, tpr, threshold = roc_curve(y_true, preds)\n",
        "  roc_auc = auc(fpr, tpr)\n",
        "  print(f'AUC: {roc_auc:.4f}')\n",
        "  # accuracy over test set\n",
        "  y_pred = np.where(preds >= 0.5, 1, 0)\n",
        "  accuracy = accuracy_score(y_true, y_pred)\n",
        "  print(f'Accuracy: {accuracy*100:.2f}%')\n",
        "\n",
        "  # plot ROC AUC\n",
        "  plt.title('Receiver Operating Characteristic')\n",
        "  plt.plot(fpr, tpr, 'b', label = 'AUC = %0.2f' % roc_auc)\n",
        "  plt.legend(loc = 'lower right')\n",
        "  plt.plot([0, 1], [0, 1],'r--')\n",
        "  plt.xlim([0, 1])\n",
        "  plt.ylim([0, 1])\n",
        "  plt.ylabel('True Positive Rate')\n",
        "  plt.xlabel('False Positive Rate')\n",
        "  plt.show()\n",
        ""
      ],
      "metadata": {
        "id": "OrC93Bmk4uDS"
      },
      "execution_count": 15,
      "outputs": []
    },
    {
      "cell_type": "code",
      "source": [
        "# Compute predicted probabilities\n",
        "nb_model = MultinomialNB(alpha=best_alpha)\n",
        "nb_model.fit(vstack((X_train_tfidf, X_val_tfidf)), np.concatenate((y_train, y_val)))\n",
        "probs = nb_model.predict_proba(X_test_tfidf)\n",
        "\n",
        "# Evaluate the classifier\n",
        "evaluate_roc(probs, y_test)"
      ],
      "metadata": {
        "colab": {
          "base_uri": "https://localhost:8080/",
          "height": 508
        },
        "id": "-xbERB2_15Ub",
        "outputId": "2d97e4b5-2081-473c-f9cf-7f45604516dd"
      },
      "execution_count": 16,
      "outputs": [
        {
          "output_type": "stream",
          "name": "stdout",
          "text": [
            "AUC: 0.8858\n",
            "Accuracy: 86.34%\n"
          ]
        },
        {
          "output_type": "display_data",
          "data": {
            "text/plain": [
              "<Figure size 640x480 with 1 Axes>"
            ],
            "image/png": "[encoded data removed]"
          },
          "metadata": {}
        }
      ]
    },
    {
      "cell_type": "code",
      "source": [
        "import numpy as np\n",
        "from sklearn.metrics import f1_score\n",
        "\n",
        "# Threshold the probabilities to get binary predictions\n",
        "y_pred = np.where(probs[:, 1] >= 0.5, 1, 0)\n",
        "\n",
        "# Compute the F1-score\n",
        "f1 = f1_score(y_test, y_pred)\n",
        "\n",
        "print(\"F1-score:\", f1)\n"
      ],
      "metadata": {
        "colab": {
          "base_uri": "https://localhost:8080/"
        },
        "id": "UhS4EZQ32FWZ",
        "outputId": "1d6a652a-86e1-49b2-efd1-60fe632c0c18"
      },
      "execution_count": 17,
      "outputs": [
        {
          "output_type": "stream",
          "name": "stdout",
          "text": [
            "F1-score: 0.9191138588356517\n"
          ]
        }
      ]
    },
    {
      "cell_type": "code",
      "source": [],
      "metadata": {
        "id": "BIEGglZn4v5N"
      },
      "execution_count": null,
      "outputs": []
    }
  ]
}